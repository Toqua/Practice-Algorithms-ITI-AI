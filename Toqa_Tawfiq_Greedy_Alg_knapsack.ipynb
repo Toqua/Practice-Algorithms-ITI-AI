{
 "cells": [
  {
   "cell_type": "code",
   "execution_count": null,
   "id": "66c465df",
   "metadata": {},
   "outputs": [],
   "source": [
    "profit = [5,10,15,7,8,9,4]\n",
    "weight = [1,3,5,4,1,3,2]\n",
    "def \n",
    "choose\n",
    "constrain max wieghrt\n",
    "enter object\n",
    "chooce cost function\n"
   ]
  }
 ],
 "metadata": {
  "kernelspec": {
   "display_name": "Python 3",
   "language": "python",
   "name": "python3"
  },
  "language_info": {
   "codemirror_mode": {
    "name": "ipython",
    "version": 3
   },
   "file_extension": ".py",
   "mimetype": "text/x-python",
   "name": "python",
   "nbconvert_exporter": "python",
   "pygments_lexer": "ipython3",
   "version": "3.8.8"
  }
 },
 "nbformat": 4,
 "nbformat_minor": 5
}
