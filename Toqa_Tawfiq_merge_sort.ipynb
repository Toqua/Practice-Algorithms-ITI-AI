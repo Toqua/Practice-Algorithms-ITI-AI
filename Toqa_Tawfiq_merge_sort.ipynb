{
 "cells": [
  {
   "cell_type": "code",
   "execution_count": 1,
   "id": "e62bb434",
   "metadata": {},
   "outputs": [],
   "source": [
    "def merge(All,Left,Right):\n",
    "    i = j = k = 0\n",
    "    while k<len(All) and i<len(Left) and j<len(Right):\n",
    "        if Left[i] < Right[j]:\n",
    "            All[k] = Left[i]\n",
    "            i+=1\n",
    "        elif Left[i] == Right[j]:\n",
    "            All[k] = Left[i]\n",
    "            k+=1\n",
    "            All[k] = Right[j]\n",
    "            j+=1\n",
    "            i+=1\n",
    "        else:\n",
    "            All[k] = Right[j]\n",
    "            j+=1\n",
    "        k +=1\n",
    "    if i<len(Left):\n",
    "        All[k:]=Left[i:]\n",
    "    elif j<len(Right):\n",
    "        All[k:] = Right[j:]"
   ]
  },
  {
   "cell_type": "code",
   "execution_count": 4,
   "id": "26aac00b",
   "metadata": {},
   "outputs": [],
   "source": [
    "def merge_sort(arr):\n",
    "    if len(arr) <2:\n",
    "        return \n",
    "    mid = len(arr)//2\n",
    "    L = arr[:mid]\n",
    "    R = arr[mid:]\n",
    "    merge_sort(L)\n",
    "    merge_sort(R)\n",
    "    merge(arr,L,R)\n"
   ]
  },
  {
   "cell_type": "code",
   "execution_count": 11,
   "id": "b6ecf96b",
   "metadata": {},
   "outputs": [
    {
     "name": "stdout",
     "output_type": "stream",
     "text": [
      "[1, 2, 2, 3, 4, 5, 6, 7, 8, 9, 10, 22]\n"
     ]
    }
   ],
   "source": [
    "l=[6,2,10,4,7,5,22,2,9,3,8,1]\n",
    "merge_sort(l)\n",
    "print(l)"
   ]
  },
  {
   "cell_type": "code",
   "execution_count": null,
   "id": "16e5f363",
   "metadata": {},
   "outputs": [],
   "source": []
  }
 ],
 "metadata": {
  "kernelspec": {
   "display_name": "Python 3",
   "language": "python",
   "name": "python3"
  },
  "language_info": {
   "codemirror_mode": {
    "name": "ipython",
    "version": 3
   },
   "file_extension": ".py",
   "mimetype": "text/x-python",
   "name": "python",
   "nbconvert_exporter": "python",
   "pygments_lexer": "ipython3",
   "version": "3.8.8"
  }
 },
 "nbformat": 4,
 "nbformat_minor": 5
}
