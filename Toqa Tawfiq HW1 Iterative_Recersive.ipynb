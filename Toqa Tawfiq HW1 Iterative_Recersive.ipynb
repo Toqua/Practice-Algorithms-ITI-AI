{
 "cells": [
  {
   "cell_type": "markdown",
   "id": "b00e255f",
   "metadata": {},
   "source": [
    "# iterative factorial"
   ]
  },
  {
   "cell_type": "code",
   "execution_count": 1,
   "id": "c0543c08",
   "metadata": {},
   "outputs": [],
   "source": [
    "def I_factorial(n):\n",
    "    f=1\n",
    "    for i in range(2,n+1):\n",
    "        f=f*i\n",
    "    return f"
   ]
  },
  {
   "cell_type": "code",
   "execution_count": 3,
   "id": "9e956d45",
   "metadata": {},
   "outputs": [
    {
     "name": "stdout",
     "output_type": "stream",
     "text": [
      "2\n",
      "120\n"
     ]
    }
   ],
   "source": [
    "print(I_factorial(2))\n",
    "print(I_factorial(5))"
   ]
  },
  {
   "cell_type": "markdown",
   "id": "6ef62b44",
   "metadata": {},
   "source": [
    "# recersive factorial"
   ]
  },
  {
   "cell_type": "code",
   "execution_count": 4,
   "id": "69f0c58a",
   "metadata": {},
   "outputs": [],
   "source": [
    "def R_factorial(n):\n",
    "    if n == 1 or n ==0:\n",
    "        return 1\n",
    "    else:\n",
    "        return  n*R_factorial(n-1)"
   ]
  },
  {
   "cell_type": "code",
   "execution_count": 5,
   "id": "61b863d0",
   "metadata": {},
   "outputs": [
    {
     "name": "stdout",
     "output_type": "stream",
     "text": [
      "2\n",
      "120\n"
     ]
    }
   ],
   "source": [
    "print(R_factorial(2))\n",
    "print(R_factorial(5))"
   ]
  },
  {
   "cell_type": "markdown",
   "id": "a247d268",
   "metadata": {},
   "source": [
    "# iterative fibonacci"
   ]
  },
  {
   "cell_type": "code",
   "execution_count": 21,
   "id": "87f18b34",
   "metadata": {},
   "outputs": [],
   "source": [
    "def I_fibonacci(n):\n",
    "    F =list()\n",
    "    F.append(0)\n",
    "    F.append(1)\n",
    "    for i in range(2,n+1):\n",
    "        F.append(F[-1]+F[-2])\n",
    "    return F[-1]"
   ]
  },
  {
   "cell_type": "code",
   "execution_count": 25,
   "id": "9994b8bb",
   "metadata": {},
   "outputs": [
    {
     "name": "stdout",
     "output_type": "stream",
     "text": [
      "5\n",
      "55\n"
     ]
    }
   ],
   "source": [
    "print(I_fibonacci(5))\n",
    "print(I_fibonacci(10))"
   ]
  },
  {
   "cell_type": "markdown",
   "id": "a22de002",
   "metadata": {},
   "source": [
    "# recersive fibonacci"
   ]
  },
  {
   "cell_type": "code",
   "execution_count": 23,
   "id": "05ce7177",
   "metadata": {},
   "outputs": [],
   "source": [
    "def R_fibonacci(n):\n",
    "    if n ==0:\n",
    "        return 0\n",
    "    elif n==1:\n",
    "        return 1\n",
    "    else:\n",
    "        return R_fibonacci(n-1)+R_fibonacci(n-2)"
   ]
  },
  {
   "cell_type": "code",
   "execution_count": 26,
   "id": "1d834027",
   "metadata": {},
   "outputs": [
    {
     "name": "stdout",
     "output_type": "stream",
     "text": [
      "5\n",
      "55\n"
     ]
    }
   ],
   "source": [
    "print(R_fibonacci(5))\n",
    "print(R_fibonacci(10))"
   ]
  },
  {
   "cell_type": "markdown",
   "id": "aa01bc46",
   "metadata": {},
   "source": [
    "# Iterative GCD"
   ]
  },
  {
   "cell_type": "code",
   "execution_count": 54,
   "id": "796619fc",
   "metadata": {},
   "outputs": [],
   "source": [
    "def I_GCD(n1,n2):\n",
    "    a = min(n1,n2)\n",
    "    b = max(n1,n2)\n",
    "    while a>1:\n",
    "        if b%a ==0: \n",
    "            return a\n",
    "        else:\n",
    "            b,a = a,b%a\n",
    "    return 1"
   ]
  },
  {
   "cell_type": "code",
   "execution_count": 65,
   "id": "4b660006",
   "metadata": {},
   "outputs": [
    {
     "name": "stdout",
     "output_type": "stream",
     "text": [
      "6\n"
     ]
    }
   ],
   "source": [
    "print(I_GCD(24,54))"
   ]
  },
  {
   "cell_type": "markdown",
   "id": "929120d0",
   "metadata": {},
   "source": [
    "# recersive GCD"
   ]
  },
  {
   "cell_type": "code",
   "execution_count": 50,
   "id": "5331a303",
   "metadata": {},
   "outputs": [],
   "source": [
    "def R_GCD(n1,n2):\n",
    "    a = min(n1,n2)\n",
    "    b = max(n1,n2)\n",
    "    if b%a ==0: \n",
    "        return a\n",
    "    else:\n",
    "        return R_GCD(a,b%a)"
   ]
  },
  {
   "cell_type": "code",
   "execution_count": 52,
   "id": "37e5e0af",
   "metadata": {},
   "outputs": [
    {
     "name": "stdout",
     "output_type": "stream",
     "text": [
      "6\n"
     ]
    }
   ],
   "source": [
    "print(R_GCD(24,54))"
   ]
  },
  {
   "cell_type": "markdown",
   "id": "e43ef1e0",
   "metadata": {},
   "source": [
    "# Insertion sort"
   ]
  },
  {
   "cell_type": "code",
   "execution_count": 79,
   "id": "08e3b7db",
   "metadata": {},
   "outputs": [],
   "source": [
    "def I_insertion_sort(arr):\n",
    "    for i in range(1,len(arr)):\n",
    "        j=i\n",
    "        while arr[j] < arr[j-1] and j > 0:\n",
    "            arr[j] , arr[j-1] = arr[j-1],arr[j]\n",
    "            j=j-1\n",
    "    return arr   "
   ]
  },
  {
   "cell_type": "code",
   "execution_count": 80,
   "id": "0e9d21bb",
   "metadata": {},
   "outputs": [
    {
     "name": "stdout",
     "output_type": "stream",
     "text": [
      "[3, 4, 6, 7]\n"
     ]
    }
   ],
   "source": [
    "print(I_insertion_sort([7,6,4,3]))"
   ]
  },
  {
   "cell_type": "code",
   "execution_count": 161,
   "id": "d57dfea5",
   "metadata": {},
   "outputs": [],
   "source": [
    "def R_insertion_sort(arr,index):\n",
    "    if index < len(arr):\n",
    "        j=index\n",
    "        while arr[j] < arr[j-1] and j > 0  :\n",
    "            arr[j-1] = arr[j]\n",
    "            j=j-1\n",
    "        R_insertion_sort(arr,index+1)\n",
    "    else:\n",
    "        return arr\n",
    "        "
   ]
  },
  {
   "cell_type": "code",
   "execution_count": 162,
   "id": "cdbf7148",
   "metadata": {},
   "outputs": [
    {
     "name": "stdout",
     "output_type": "stream",
     "text": [
      "None\n"
     ]
    }
   ],
   "source": [
    "print(R_insertion_sort([7,6,4,3],1))"
   ]
  },
  {
   "cell_type": "code",
   "execution_count": 130,
   "id": "0930a23b",
   "metadata": {},
   "outputs": [],
   "source": [
    "def I_linearSearch(arr,value):\n",
    "    for i in range(len(arr)):\n",
    "        if arr[i] == value:\n",
    "            return i\n",
    "    return -1"
   ]
  },
  {
   "cell_type": "code",
   "execution_count": 132,
   "id": "84a5b410",
   "metadata": {},
   "outputs": [
    {
     "name": "stdout",
     "output_type": "stream",
     "text": [
      "2\n",
      "-1\n"
     ]
    }
   ],
   "source": [
    "print(I_linearSearch([7,6,4,3],4))\n",
    "print(I_linearSearch([7,6,4,3],5))\n"
   ]
  },
  {
   "cell_type": "code",
   "execution_count": 143,
   "id": "835decf3",
   "metadata": {},
   "outputs": [],
   "source": [
    "def R_linearSearch(arr,n,value):\n",
    "    if n==0:\n",
    "        return -1\n",
    "    if value == arr[n-1]:\n",
    "        return n-1\n",
    "    else:\n",
    "        return R_linearSearch(arr[0:n-1],n-1,value)"
   ]
  },
  {
   "cell_type": "code",
   "execution_count": 146,
   "id": "415d19bc",
   "metadata": {},
   "outputs": [
    {
     "name": "stdout",
     "output_type": "stream",
     "text": [
      "0\n"
     ]
    }
   ],
   "source": [
    "print(R_linearSearch([7,6,4,3],4,7))\n"
   ]
  },
  {
   "cell_type": "code",
   "execution_count": 3,
   "id": "5aabc28e",
   "metadata": {},
   "outputs": [],
   "source": [
    "def I_BinarySearch(arr,value):\n",
    "    low = 0\n",
    "    high = len(arr)-1\n",
    "    mid = (high + low )//2\n",
    "    while low <= high:\n",
    "        if arr[mid]== value:\n",
    "            return mid\n",
    "        elif arr[mid]< value:\n",
    "            low = mid\n",
    "        else:\n",
    "            high = mid\n",
    "        mid = (high + low )//2\n",
    "    return -1"
   ]
  },
  {
   "cell_type": "code",
   "execution_count": 4,
   "id": "c376eba3",
   "metadata": {},
   "outputs": [
    {
     "ename": "KeyboardInterrupt",
     "evalue": "",
     "output_type": "error",
     "traceback": [
      "\u001b[1;31m---------------------------------------------------------------------------\u001b[0m",
      "\u001b[1;31mKeyboardInterrupt\u001b[0m                         Traceback (most recent call last)",
      "\u001b[1;32m<ipython-input-4-332415714e41>\u001b[0m in \u001b[0;36m<module>\u001b[1;34m\u001b[0m\n\u001b[1;32m----> 1\u001b[1;33m \u001b[0mprint\u001b[0m\u001b[1;33m(\u001b[0m\u001b[0mI_BinarySearch\u001b[0m\u001b[1;33m(\u001b[0m\u001b[1;33m[\u001b[0m\u001b[1;36m1\u001b[0m\u001b[1;33m,\u001b[0m\u001b[1;36m2\u001b[0m\u001b[1;33m,\u001b[0m\u001b[1;36m3\u001b[0m\u001b[1;33m,\u001b[0m\u001b[1;36m4\u001b[0m\u001b[1;33m]\u001b[0m\u001b[1;33m,\u001b[0m\u001b[1;36m4\u001b[0m\u001b[1;33m)\u001b[0m\u001b[1;33m)\u001b[0m\u001b[1;33m\u001b[0m\u001b[1;33m\u001b[0m\u001b[0m\n\u001b[0m",
      "\u001b[1;32m<ipython-input-3-c5454eede5f8>\u001b[0m in \u001b[0;36mI_BinarySearch\u001b[1;34m(arr, value)\u001b[0m\n\u001b[0;32m     10\u001b[0m         \u001b[1;32melse\u001b[0m\u001b[1;33m:\u001b[0m\u001b[1;33m\u001b[0m\u001b[1;33m\u001b[0m\u001b[0m\n\u001b[0;32m     11\u001b[0m             \u001b[0mhigh\u001b[0m \u001b[1;33m=\u001b[0m \u001b[0mmid\u001b[0m\u001b[1;33m\u001b[0m\u001b[1;33m\u001b[0m\u001b[0m\n\u001b[1;32m---> 12\u001b[1;33m         \u001b[0mmid\u001b[0m \u001b[1;33m=\u001b[0m \u001b[1;33m(\u001b[0m\u001b[0mhigh\u001b[0m \u001b[1;33m+\u001b[0m \u001b[0mlow\u001b[0m \u001b[1;33m)\u001b[0m\u001b[1;33m//\u001b[0m\u001b[1;36m2\u001b[0m\u001b[1;33m\u001b[0m\u001b[1;33m\u001b[0m\u001b[0m\n\u001b[0m\u001b[0;32m     13\u001b[0m     \u001b[1;32mreturn\u001b[0m \u001b[1;33m-\u001b[0m\u001b[1;36m1\u001b[0m\u001b[1;33m\u001b[0m\u001b[1;33m\u001b[0m\u001b[0m\n",
      "\u001b[1;31mKeyboardInterrupt\u001b[0m: "
     ]
    }
   ],
   "source": [
    "print(I_BinarySearch([1,2,3,4],4))\n"
   ]
  },
  {
   "cell_type": "code",
   "execution_count": 7,
   "id": "9bed3664",
   "metadata": {},
   "outputs": [],
   "source": [
    "def I_bubbleSort(arr):\n",
    "    for i in range(len(arr)):\n",
    "        for j in range(i+1,len(arr)):\n",
    "            if arr[j]<arr[i]:\n",
    "                arr[j] , arr[i] = arr[i],arr[j]\n",
    "    return arr"
   ]
  },
  {
   "cell_type": "code",
   "execution_count": 8,
   "id": "2547adf2",
   "metadata": {},
   "outputs": [
    {
     "name": "stdout",
     "output_type": "stream",
     "text": [
      "[3, 4, 6, 7]\n"
     ]
    }
   ],
   "source": [
    "print(I_bubbleSort([7,6,4,3]))"
   ]
  },
  {
   "cell_type": "code",
   "execution_count": null,
   "id": "7d0d5e69",
   "metadata": {},
   "outputs": [],
   "source": []
  }
 ],
 "metadata": {
  "kernelspec": {
   "display_name": "Python 3",
   "language": "python",
   "name": "python3"
  },
  "language_info": {
   "codemirror_mode": {
    "name": "ipython",
    "version": 3
   },
   "file_extension": ".py",
   "mimetype": "text/x-python",
   "name": "python",
   "nbconvert_exporter": "python",
   "pygments_lexer": "ipython3",
   "version": "3.8.8"
  }
 },
 "nbformat": 4,
 "nbformat_minor": 5
}
