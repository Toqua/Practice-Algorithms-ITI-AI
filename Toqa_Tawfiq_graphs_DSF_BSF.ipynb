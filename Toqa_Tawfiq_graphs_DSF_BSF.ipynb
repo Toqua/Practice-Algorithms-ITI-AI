{
 "cells": [
  {
   "cell_type": "code",
   "execution_count": 43,
   "id": "454b9b19",
   "metadata": {},
   "outputs": [],
   "source": [
    "#FIFO\n",
    "class Stack:\n",
    "    \n",
    "    l_stack=list()\n",
    "    Mxsize = len(l_stack)\n",
    "    counter = 0\n",
    "    \n",
    "    def __init__(self,Size=10):\n",
    "        self.size = Size\n",
    "        l_stack= list()\n",
    "        counter = 0\n",
    "        \n",
    "    def __str__(self):\n",
    "        return str(self.l_stack)\n",
    "        \n",
    "    def getSize(self):\n",
    "        return self.size\n",
    "    \n",
    "    def isEmpty(self):\n",
    "        return self.counter == 0\n",
    "    \n",
    "    def isFull(self):\n",
    "        return self.size == self.counter\n",
    "    \n",
    "    def push(self,value):\n",
    "        if not self.isFull():\n",
    "            self.l_stack.append(value)\n",
    "            self.counter+=1\n",
    "            return self.counter-1\n",
    "        else:\n",
    "            raise(AttributeError(\"stack is full\"))\n",
    "        \n",
    "    def pop(self):\n",
    "        if self.isEmpty():\n",
    "            raise(AttributeError(\"stack is empty\"))\n",
    "        else:\n",
    "            self.counter-=1\n",
    "            return self.l_stack.pop(-1)\n",
    "\n",
    "        "
   ]
  },
  {
   "cell_type": "code",
   "execution_count": 13,
   "id": "0dc3db04",
   "metadata": {},
   "outputs": [
    {
     "name": "stdout",
     "output_type": "stream",
     "text": [
      "[]\n"
     ]
    }
   ],
   "source": [
    "s = Stack()\n",
    "print(s)\n"
   ]
  },
  {
   "cell_type": "code",
   "execution_count": 14,
   "id": "32a0d42e",
   "metadata": {},
   "outputs": [
    {
     "name": "stdout",
     "output_type": "stream",
     "text": [
      "2\n",
      "[1]\n"
     ]
    }
   ],
   "source": [
    "s.push(1)\n",
    "s.push(2)\n",
    "print(s.pop())\n",
    "print(s)"
   ]
  },
  {
   "cell_type": "code",
   "execution_count": 48,
   "id": "59a9dcfb",
   "metadata": {},
   "outputs": [],
   "source": [
    "#FILO\n",
    "class Queue:\n",
    "    \n",
    "    l_queue=list()\n",
    "    Mxsize = len(l_queue)\n",
    "    counter = 0\n",
    "    \n",
    "    def __init__(self,Size=10):\n",
    "        self.size = Size\n",
    "        l_queue= list()\n",
    "        counter = 0\n",
    "        \n",
    "    def __str__(self):\n",
    "        return str(self.l_queue)\n",
    "    \n",
    "    def getSize(self):\n",
    "        return self.size\n",
    "    \n",
    "    def isEmpty(self):\n",
    "        return self.counter == 0\n",
    "    \n",
    "    def isFull(self):\n",
    "        return self.size == self.counter\n",
    "    \n",
    "    def push(self,value):\n",
    "        if not self.isFull():\n",
    "            self.l_queue.append(value)\n",
    "            self.counter+=1\n",
    "        else:\n",
    "            raise(AttributeError(\"stack is full\"))\n",
    "        \n",
    "    def pop(self):\n",
    "        if self.isEmpty():\n",
    "            raise(AttributeError(\"stack is empty\"))\n",
    "        else:\n",
    "            self.counter-=1\n",
    "            return self.l_queue.pop(0)\n",
    "\n",
    "        "
   ]
  },
  {
   "cell_type": "code",
   "execution_count": 40,
   "id": "548c9280",
   "metadata": {},
   "outputs": [
    {
     "name": "stdout",
     "output_type": "stream",
     "text": [
      "[1, 4]\n",
      "[4]\n"
     ]
    }
   ],
   "source": [
    "X = Queue()\n",
    "X.push(1)\n",
    "X.push(4)\n",
    "print(X)\n",
    "X.pop()\n",
    "print(X)"
   ]
  },
  {
   "cell_type": "code",
   "execution_count": 47,
   "id": "6706569b",
   "metadata": {},
   "outputs": [
    {
     "name": "stdout",
     "output_type": "stream",
     "text": [
      "[4, 6]\n"
     ]
    }
   ],
   "source": [
    "X.push(6)\n",
    "print(X)"
   ]
  },
  {
   "cell_type": "code",
   "execution_count": 34,
   "id": "77777321",
   "metadata": {},
   "outputs": [],
   "source": [
    "def DFS(G,first):\n",
    "    st = Stack(50)\n",
    "    st.push(first)\n",
    "    visited = list()\n",
    "    \n",
    "    while not st.isEmpty():\n",
    "        c = st.pop()\n",
    "        print(c)\n",
    "        if c not in visited:\n",
    "            visited.append(c)\n",
    "            for item in G[c]:\n",
    "                if item not in visited:\n",
    "                    st.push(item)\n",
    "    return visited"
   ]
  },
  {
   "cell_type": "code",
   "execution_count": 38,
   "id": "1e008ed5",
   "metadata": {},
   "outputs": [],
   "source": [
    "def BFS(G,first):\n",
    "    st = Queue(50)\n",
    "    st.push(first)\n",
    "    visited = list()\n",
    "    \n",
    "    while not st.isEmpty():\n",
    "        c = st.pop()\n",
    "        print(c)\n",
    "        if c not in visited:\n",
    "            visited.append(c)\n",
    "            for item in G[c]:\n",
    "                if item not in visited:\n",
    "                    st.push(item)\n",
    "    return visited"
   ]
  },
  {
   "cell_type": "code",
   "execution_count": 44,
   "id": "14877253",
   "metadata": {},
   "outputs": [],
   "source": [
    "def R_DFS(G,dfs,visited):\n",
    "    if dfs.isEmpty():\n",
    "        return\n",
    "    c = dfs.pop()\n",
    "    print(c)\n",
    "    if c not in visited:\n",
    "        visited.append(c)\n",
    "        for item in G[c]:\n",
    "            if item not in visited:\n",
    "                dfs.push(item)\n",
    "    R_DFS(G,dfs,visited)\n",
    "                "
   ]
  },
  {
   "cell_type": "code",
   "execution_count": 45,
   "id": "658b4e75",
   "metadata": {},
   "outputs": [
    {
     "data": {
      "text/plain": [
       "0"
      ]
     },
     "execution_count": 45,
     "metadata": {},
     "output_type": "execute_result"
    }
   ],
   "source": [
    "dfs = Stack()\n",
    "dfs.push(\"a\")"
   ]
  },
  {
   "cell_type": "code",
   "execution_count": 46,
   "id": "05caf42f",
   "metadata": {},
   "outputs": [
    {
     "name": "stdout",
     "output_type": "stream",
     "text": [
      "None\n"
     ]
    }
   ],
   "source": [
    "v = list()\n",
    "print(R_DFS(G,dfs,v))"
   ]
  },
  {
   "cell_type": "code",
   "execution_count": 47,
   "id": "905b2858",
   "metadata": {},
   "outputs": [
    {
     "name": "stdout",
     "output_type": "stream",
     "text": [
      "['a', 'e', 'c', 'f', 'd', 'b']\n"
     ]
    }
   ],
   "source": [
    "print(v)"
   ]
  },
  {
   "cell_type": "code",
   "execution_count": 49,
   "id": "ab821b0d",
   "metadata": {},
   "outputs": [],
   "source": [
    "def R_BFS(G,bfs,visited):\n",
    "    if bfs.isEmpty():\n",
    "        return\n",
    "    c = bfs.pop()\n",
    "    print(c)\n",
    "    if c not in visited:\n",
    "        visited.append(c)\n",
    "        for item in G[c]:\n",
    "            if item not in visited:\n",
    "                bfs.push(item)\n",
    "    R_DFS(G,bfs,visited)\n",
    "         "
   ]
  },
  {
   "cell_type": "code",
   "execution_count": 51,
   "id": "b61999ad",
   "metadata": {},
   "outputs": [
    {
     "name": "stdout",
     "output_type": "stream",
     "text": [
      "['a', 'b', 'c', 'e', 'd', 'f']\n"
     ]
    }
   ],
   "source": [
    "bfs = Queue()\n",
    "bfs.push(\"a\")\n",
    "v = list()\n",
    "R_DFS(G,bfs,v)\n",
    "print(v)"
   ]
  },
  {
   "cell_type": "code",
   "execution_count": null,
   "id": "f2110feb",
   "metadata": {},
   "outputs": [],
   "source": []
  },
  {
   "cell_type": "code",
   "execution_count": 35,
   "id": "1866b9e8",
   "metadata": {},
   "outputs": [],
   "source": [
    "G = {\"a\":[\"b\",\"c\",\"e\"], \"b\":[\"a\",\"d\"], \"c\":[\"a\",\"d\",\"e\",\"f\"], \"d\":[\"b\",\"c\",\"e\"], \"e\":[\"a\",\"d\",\"c\"], \"f\":[\"c\"]}"
   ]
  },
  {
   "cell_type": "code",
   "execution_count": 36,
   "id": "eda8b09f",
   "metadata": {},
   "outputs": [
    {
     "name": "stdout",
     "output_type": "stream",
     "text": [
      "a\n",
      "e\n",
      "c\n",
      "f\n",
      "d\n",
      "b\n",
      "d\n",
      "c\n",
      "b\n",
      "['a', 'e', 'c', 'f', 'd', 'b']\n"
     ]
    }
   ],
   "source": [
    "print(DFS(G,\"a\"))"
   ]
  },
  {
   "cell_type": "code",
   "execution_count": 39,
   "id": "a346c8bc",
   "metadata": {},
   "outputs": [
    {
     "name": "stdout",
     "output_type": "stream",
     "text": [
      "a\n",
      "b\n",
      "c\n",
      "e\n",
      "d\n",
      "d\n",
      "e\n",
      "f\n",
      "d\n",
      "['a', 'b', 'c', 'e', 'd', 'f']\n"
     ]
    }
   ],
   "source": [
    "print(BFS(G,\"a\"))"
   ]
  },
  {
   "cell_type": "code",
   "execution_count": null,
   "id": "389c14af",
   "metadata": {},
   "outputs": [],
   "source": []
  }
 ],
 "metadata": {
  "kernelspec": {
   "display_name": "Python 3",
   "language": "python",
   "name": "python3"
  },
  "language_info": {
   "codemirror_mode": {
    "name": "ipython",
    "version": 3
   },
   "file_extension": ".py",
   "mimetype": "text/x-python",
   "name": "python",
   "nbconvert_exporter": "python",
   "pygments_lexer": "ipython3",
   "version": "3.8.8"
  }
 },
 "nbformat": 4,
 "nbformat_minor": 5
}
