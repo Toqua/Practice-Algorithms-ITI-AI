{
 "cells": [
  {
   "cell_type": "code",
   "execution_count": 23,
   "id": "4badb60c",
   "metadata": {},
   "outputs": [],
   "source": [
    "import numpy as np"
   ]
  },
  {
   "cell_type": "code",
   "execution_count": 10,
   "id": "5aa9245f",
   "metadata": {},
   "outputs": [],
   "source": [
    "items_w = [6,5,4,3]\n",
    "items_v = [1,4,3,2]"
   ]
  },
  {
   "cell_type": "code",
   "execution_count": 20,
   "id": "827c2e8b",
   "metadata": {},
   "outputs": [],
   "source": [
    "def I_insertion_sort(items_weight,items_value):\n",
    "    for i in range(1,len(items_weight)):\n",
    "        j=i\n",
    "        while items_weight[j] < items_weight[j-1] and j > 0:\n",
    "            items_weight[j] , items_weight[j-1] = items_weight[j-1],items_weight[j]\n",
    "            items_value[j] , items_value[j-1] = items_value[j-1],items_value[j]\n",
    "            j=j-1"
   ]
  },
  {
   "cell_type": "code",
   "execution_count": 21,
   "id": "0eaad3c9",
   "metadata": {},
   "outputs": [],
   "source": [
    "I_insertion_sort(items_w,items_v)"
   ]
  },
  {
   "cell_type": "code",
   "execution_count": 22,
   "id": "683c2322",
   "metadata": {},
   "outputs": [
    {
     "name": "stdout",
     "output_type": "stream",
     "text": [
      "[3, 4, 5, 6]\n",
      "[2, 3, 4, 1]\n"
     ]
    }
   ],
   "source": [
    "print(items_w)\n",
    "print(items_v)"
   ]
  },
  {
   "cell_type": "code",
   "execution_count": 26,
   "id": "a1d5e8ad",
   "metadata": {},
   "outputs": [],
   "source": [
    "def max_profit(mx_weight,items_weight,items_value):\n",
    "    m = np.zeros((len(items_weight)+1,mx_weight+1))\n",
    "    for i in range(1,len(items_weight)+1):\n",
    "        for j in range(1,mx_weight+1):\n",
    "            if items_weight[i-1] > j:\n",
    "                m[i,j] = m[i-1,j]\n",
    "            else:\n",
    "                m[i,j] = max( m[i-1,j] , items_value[i-1] + (m[i-1,j-items_weight[i-1]]) )\n",
    "    return m"
   ]
  },
  {
   "cell_type": "code",
   "execution_count": 27,
   "id": "ca8f2352",
   "metadata": {},
   "outputs": [
    {
     "data": {
      "text/plain": [
       "array([[0., 0., 0., 0., 0., 0., 0., 0., 0.],\n",
       "       [0., 0., 0., 2., 2., 2., 2., 2., 2.],\n",
       "       [0., 0., 0., 2., 3., 3., 3., 5., 5.],\n",
       "       [0., 0., 0., 2., 3., 4., 4., 5., 6.],\n",
       "       [0., 0., 0., 2., 3., 4., 4., 5., 6.]])"
      ]
     },
     "execution_count": 27,
     "metadata": {},
     "output_type": "execute_result"
    }
   ],
   "source": [
    "x= max_profit(8,items_w,items_v)\n",
    "x"
   ]
  },
  {
   "cell_type": "code",
   "execution_count": null,
   "id": "76071162",
   "metadata": {},
   "outputs": [],
   "source": []
  }
 ],
 "metadata": {
  "kernelspec": {
   "display_name": "Python 3",
   "language": "python",
   "name": "python3"
  },
  "language_info": {
   "codemirror_mode": {
    "name": "ipython",
    "version": 3
   },
   "file_extension": ".py",
   "mimetype": "text/x-python",
   "name": "python",
   "nbconvert_exporter": "python",
   "pygments_lexer": "ipython3",
   "version": "3.8.8"
  }
 },
 "nbformat": 4,
 "nbformat_minor": 5
}
