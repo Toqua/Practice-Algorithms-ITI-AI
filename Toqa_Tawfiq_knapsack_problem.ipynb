{
 "cells": [
  {
   "cell_type": "markdown",
   "id": "01f6fdfa",
   "metadata": {},
   "source": [
    "It is required to implement a python program that simulate a knapsack filling using a greedy algorithm. \n",
    "\n",
    "The program should start with a menu to choose from it:\n",
    "1- The type of Knapsack ( Fractional - I/0)\n",
    "2- The cost function based on (Maximum Profit - Minimum Weight - Maximum Profit/Weight - All)\n",
    "3- Update the objects and the maximum weight of the knapsack (constrain)\n",
    "4- Close the program \n",
    "\n",
    "** Always think that this program may be used again with additional functionalities.\n",
    "\n",
    "** Any additional features may be considered as bonus.\n",
    "\n",
    "Enjoy Coding"
   ]
  },
  {
   "cell_type": "code",
   "execution_count": 61,
   "id": "15c5b05c",
   "metadata": {},
   "outputs": [],
   "source": [
    "import numpy as np"
   ]
  },
  {
   "cell_type": "code",
   "execution_count": 89,
   "id": "f891f544",
   "metadata": {},
   "outputs": [],
   "source": [
    "def main_menu():\n",
    "    c = input(\"Enter's' to start Knapsack program or 'q' to exict : \")\n",
    "    return c\n"
   ]
  },
  {
   "cell_type": "code",
   "execution_count": 90,
   "id": "425c0519",
   "metadata": {},
   "outputs": [],
   "source": [
    "def get_alg_type():\n",
    "    a= input(f\"Enter your choice\\n(1) for Greedy alg \\n(2) for dynamic programing \\n\")\n",
    "    return int(a)"
   ]
  },
  {
   "cell_type": "code",
   "execution_count": 91,
   "id": "9c3f72f1",
   "metadata": {},
   "outputs": [],
   "source": [
    "def get_Knapsack_type():\n",
    "    t = input(f\"Enter your choice\\n(1) for Fractional Knapsack \\n(2) for I/0 Knapsack \\n\")\n",
    "    return int(t)"
   ]
  },
  {
   "cell_type": "code",
   "execution_count": 92,
   "id": "1f567569",
   "metadata": {},
   "outputs": [],
   "source": [
    "def get_cost_function():\n",
    "    c = input(f\"Enter your choice: \\n(1)Maximum Profit \\n(2)Minimum Weight \\n(3)Maximum Profit/Weight \\n(4)All\\n\")\n",
    "    return int(c)"
   ]
  },
  {
   "cell_type": "code",
   "execution_count": null,
   "id": "6aabf54f",
   "metadata": {},
   "outputs": [],
   "source": []
  },
  {
   "cell_type": "code",
   "execution_count": 93,
   "id": "a120453b",
   "metadata": {},
   "outputs": [],
   "source": [
    "def sortitemsperweight(items_weight,items_value):\n",
    "    for i in range(1,len(items_weight)):\n",
    "        j=i\n",
    "        while items_weight[j] > items_weight[j-1] and j > 0:\n",
    "            items_weight[j] , items_weight[j-1] = items_weight[j-1],items_weight[j]\n",
    "            items_value[j] , items_value[j-1] = items_value[j-1],items_value[j]\n",
    "            j=j-1"
   ]
  },
  {
   "cell_type": "code",
   "execution_count": 94,
   "id": "56112899",
   "metadata": {},
   "outputs": [],
   "source": [
    "def sortitemspervalue(items_weight,items_value):\n",
    "    for i in range(1,len(items_weight)):\n",
    "        j=i\n",
    "        while items_value[j] > items_value[j-1] and j > 0:\n",
    "            items_weight[j] , items_weight[j-1] = items_weight[j-1],items_weight[j]\n",
    "            items_value[j] , items_value[j-1] = items_value[j-1],items_value[j]\n",
    "            j=j-1"
   ]
  },
  {
   "cell_type": "code",
   "execution_count": null,
   "id": "91a26aa7",
   "metadata": {},
   "outputs": [],
   "source": []
  },
  {
   "cell_type": "code",
   "execution_count": 95,
   "id": "825f3303",
   "metadata": {},
   "outputs": [],
   "source": [
    "def get_max_items_weight_values():\n",
    "    mxweight = int(input(\"Enter max weight in numbers: \"))\n",
    "    numOfItems = int(input(\"Enter number of items: \"))\n",
    "    itemsweight = list()\n",
    "    itemsvalue = list()\n",
    "    for i in range(numOfItems):\n",
    "        itemsweight.append(int(input(\"enter object \"+str(i+1)+\" weight\")))\n",
    "        itemsvalue.append(int(input(\"enter object \"+str(i+1)+\" value\")))\n",
    "    sortitemsperweight(itemsweight,itemsvalue)\n",
    "    return mxweight, itemsweight, itemsvalue"
   ]
  },
  {
   "cell_type": "code",
   "execution_count": null,
   "id": "05b239e9",
   "metadata": {},
   "outputs": [],
   "source": []
  },
  {
   "cell_type": "code",
   "execution_count": 96,
   "id": "b9ddbb0e",
   "metadata": {},
   "outputs": [],
   "source": [
    "def F_Knapsack_problem(cost_function,max_weight, itemsWeight, itemsValue):\n",
    "    if cost_function == 1:\n",
    "        F_knapsack_maxProfit(max_weight, itemsWeight, itemsValue)\n",
    "    elif cost_function ==2:\n",
    "        F_knapsack_minimumWeight(max_weight, itemsWeight, itemsValue)\n",
    "    elif cost_function ==3:\n",
    "        F_knapsack_MaximumProfit_Weight(max_weight, itemsWeight, itemsValue)\n",
    "    elif cost_function ==4:\n",
    "        F_knapsack_All(max_weight, itemsWeight, itemsValue)\n",
    "    else:\n",
    "        print(\"there is no such type\")\n"
   ]
  },
  {
   "cell_type": "code",
   "execution_count": 97,
   "id": "685e32ce",
   "metadata": {},
   "outputs": [],
   "source": [
    "def F_knapsack_maxProfit(max_weight, itemsWeight, itemsValue):\n",
    "    j=max_weight\n",
    "    item =0\n",
    "    mxProfit =0\n",
    "    while j>0 and item<len(itemsWeight) :\n",
    "        j-=itemsWeight[item]\n",
    "        mxProfit+=itemsValue[item]\n",
    "        item+=1\n",
    "    if j<0 and item<len(itemsWeight):\n",
    "        mxProfit+=(itemsValue[item]*(-j)//itemsWeight[item]) \n",
    "    return mxProfit\n",
    "    "
   ]
  },
  {
   "cell_type": "code",
   "execution_count": 98,
   "id": "19bccf78",
   "metadata": {},
   "outputs": [],
   "source": [
    "def F_knapsack_minimumWeight(max_weight, itemsWeight, itemsValue):\n",
    "    j=max_weight\n",
    "    item =-1\n",
    "    mxProfit =0\n",
    "    while j>0 and item<len(itemsWeight) :\n",
    "        j-=itemsWeight[item]\n",
    "        mxProfit+=itemsValue[item]\n",
    "        item-=1\n",
    "    if j<0:\n",
    "        mxProfit+=(itemsValue[item]*(-j)//itemsWeight[item]) \n",
    "    return mxProfit"
   ]
  },
  {
   "cell_type": "code",
   "execution_count": 99,
   "id": "2861274a",
   "metadata": {},
   "outputs": [],
   "source": [
    "def I_insertion_sort(arr):\n",
    "    for i in range(1,len(arr)):\n",
    "        j=i\n",
    "        while arr[j] < arr[j-1] and j > 0:\n",
    "            arr[j] , arr[j-1] = arr[j-1],arr[j]\n",
    "            j=j-1\n",
    "    return arr "
   ]
  },
  {
   "cell_type": "code",
   "execution_count": 100,
   "id": "33b0fd36",
   "metadata": {},
   "outputs": [],
   "source": [
    "def F_knapsack_All(max_weight, itemsWeight, itemsValue):\n",
    "    x=F_knapsack_minimumWeight(max_weight, itemsWeight, itemsValue)\n",
    "    y = F_knapsack_maxProfit(max_weight, itemsWeight, itemsValue)\n",
    "    return x,y\n"
   ]
  },
  {
   "cell_type": "code",
   "execution_count": 101,
   "id": "3dcecc74",
   "metadata": {},
   "outputs": [],
   "source": [
    "def I_knapsack_maxProfit(max_weight, itemsWeight, itemsValue):\n",
    "    j=max_weight\n",
    "    item =0\n",
    "    mxProfit =0\n",
    "    while j>0 and item<len(itemsWeight) :\n",
    "        j-=itemsWeight[item]\n",
    "        mxProfit+=itemsValue[item]\n",
    "        item+=1\n",
    "    \n",
    "    return mxProfit"
   ]
  },
  {
   "cell_type": "code",
   "execution_count": 102,
   "id": "60d2d780",
   "metadata": {},
   "outputs": [],
   "source": [
    "def I_knapsack_minimumWeight(max_weight, itemsWeight, itemsValue):\n",
    "    j=max_weight\n",
    "    item =-1\n",
    "    mxProfit =0\n",
    "    while j>0 and item<len(itemsWeight) :\n",
    "        j-=itemsWeight[item]\n",
    "        mxProfit+=itemsValue[item]\n",
    "        item-=1\n",
    "    \n",
    "    return mxProfit\n"
   ]
  },
  {
   "cell_type": "code",
   "execution_count": null,
   "id": "64964d47",
   "metadata": {},
   "outputs": [],
   "source": []
  },
  {
   "cell_type": "code",
   "execution_count": null,
   "id": "8b215cc1",
   "metadata": {},
   "outputs": [],
   "source": []
  },
  {
   "cell_type": "code",
   "execution_count": 103,
   "id": "aa2b1d08",
   "metadata": {},
   "outputs": [],
   "source": [
    "def I_Knapsack_problem(cost_function,max_weight, itemsWeight, itemsValue):\n",
    "    if cost_function == 1:\n",
    "        I_knapsack_maxProfit(max_weight, itemsWeight, itemsValue)\n",
    "    elif cost_function ==2:\n",
    "        I_knapsack_minimumWeight(max_weight, itemsWeight, itemsValue)\n",
    "    elif cost_function ==3:\n",
    "        I_knapsack_MaximumProfit_Weight(max_weight, itemsWeight, itemsValue)\n",
    "    elif cost_function ==4:\n",
    "        I_knapsack_All(max_weight, itemsWeight, itemsValue)\n",
    "    else:\n",
    "        print(\"there is no such type\")\n"
   ]
  },
  {
   "cell_type": "code",
   "execution_count": null,
   "id": "57bdcc55",
   "metadata": {},
   "outputs": [],
   "source": []
  },
  {
   "cell_type": "code",
   "execution_count": null,
   "id": "343ce534",
   "metadata": {},
   "outputs": [],
   "source": []
  },
  {
   "cell_type": "code",
   "execution_count": null,
   "id": "f7a7187a",
   "metadata": {},
   "outputs": [],
   "source": []
  },
  {
   "cell_type": "code",
   "execution_count": 104,
   "id": "3dc09177",
   "metadata": {},
   "outputs": [],
   "source": [
    "def Knapsack_problem(Knapsack_type,cost_function,max_weight, itemsWeight, itemsValue):\n",
    "    if Knapsack_type == 1:\n",
    "        F_Knapsack_problem(cost_function,max_weight, itemsWeight, itemsValue)\n",
    "    elif Knapsack_type == 2:\n",
    "        I_Knapsack_problem(cost_function,max_weight, itemsWeight, itemsValue)\n",
    "    else:\n",
    "        print(\"there is no such type\")"
   ]
  },
  {
   "cell_type": "code",
   "execution_count": 105,
   "id": "3700c874",
   "metadata": {},
   "outputs": [],
   "source": [
    "def I_insertion_sort1(items_weight,items_value):\n",
    "    for i in range(1,len(items_weight)):\n",
    "        j=i\n",
    "        while items_weight[j] < items_weight[j-1] and j > 0:\n",
    "            items_weight[j] , items_weight[j-1] = items_weight[j-1],items_weight[j]\n",
    "            items_value[j] , items_value[j-1] = items_value[j-1],items_value[j]\n",
    "            j=j-1"
   ]
  },
  {
   "cell_type": "code",
   "execution_count": 106,
   "id": "beb37cad",
   "metadata": {},
   "outputs": [],
   "source": [
    "def max_profit(mx_weight,items_weight,items_value):\n",
    "    I_insertion_sort1(items_weight,items_value)\n",
    "    m = np.zeros((len(items_weight)+1,mx_weight+1))\n",
    "    for i in range(1,len(items_weight)+1):\n",
    "        for j in range(1,mx_weight+1):\n",
    "            if items_weight[i-1] > j:\n",
    "                m[i,j] = m[i-1,j]\n",
    "            else:\n",
    "                m[i,j] = max( m[i-1,j] , items_value[i-1] + (m[i-1,j-items_weight[i-1]]) )\n",
    "    return m"
   ]
  },
  {
   "cell_type": "code",
   "execution_count": 108,
   "id": "be23a935",
   "metadata": {},
   "outputs": [
    {
     "name": "stdout",
     "output_type": "stream",
     "text": [
      "Enter's' to start Knapsack program or 'q' to exict : s\n",
      "Enter max weight in numbers: 6\n",
      "Enter number of items: 2\n",
      "enter object 1 weight1\n",
      "enter object 1 value2\n",
      "enter object 2 weight3\n",
      "enter object 2 value4\n",
      "Enter your choice\n",
      "(1) for Fractional Knapsack \n",
      "(2) for I/0 Knapsack \n",
      "2\n",
      "Enter your choice\n",
      "(1) for Greedy alg \n",
      "(2) for dynamic programing \n",
      "2\n",
      "[[0. 0. 0. 0. 0. 0. 0.]\n",
      " [0. 2. 2. 2. 2. 2. 2.]\n",
      " [0. 2. 2. 4. 6. 6. 6.]]\n",
      "Enter's' to start Knapsack program or 'q' to exict : s\n",
      "Enter max weight in numbers: 6\n",
      "Enter number of items: 2\n",
      "enter object 1 weight1\n",
      "enter object 1 value2\n",
      "enter object 2 weight3\n",
      "enter object 2 value4\n",
      "Enter your choice\n",
      "(1) for Fractional Knapsack \n",
      "(2) for I/0 Knapsack \n",
      "2\n",
      "Enter your choice\n",
      "(1) for Greedy alg \n",
      "(2) for dynamic programing \n",
      "1\n",
      "Enter your choice: \n",
      "(1)Maximum Profit \n",
      "(2)Minimum Weight \n",
      "(3)Maximum Profit/Weight \n",
      "(4)All\n",
      "1\n",
      "None\n",
      "Enter's' to start Knapsack program or 'q' to exict : q\n",
      "Knapsack program has been ended\n"
     ]
    }
   ],
   "source": [
    "#main program\n",
    "choice = main_menu()\n",
    "while choice =='s':\n",
    "    mxp=0\n",
    "    max_weight, itemsWeight, itemsValue = get_max_items_weight_values()\n",
    "    \n",
    "    Knapsack_type =get_Knapsack_type()\n",
    "    alg_t = get_alg_type()\n",
    "    if alg_t == 2 and Knapsack_type==2:\n",
    "        \n",
    "        mxp = max_profit(max_weight,itemsWeight,itemsValue)\n",
    "        print(mxp)\n",
    "    else:\n",
    "        cost_function = get_cost_function()\n",
    "        mxp = Knapsack_problem(Knapsack_type,cost_function,max_weight, itemsWeight, itemsValue)\n",
    "        print(mxp)\n",
    "    \n",
    "    choice = main_menu()\n",
    "    \n",
    "print(\"Knapsack program has been ended\")"
   ]
  },
  {
   "cell_type": "code",
   "execution_count": null,
   "id": "e4faf024",
   "metadata": {},
   "outputs": [],
   "source": []
  },
  {
   "cell_type": "code",
   "execution_count": null,
   "id": "d70e8b50",
   "metadata": {},
   "outputs": [],
   "source": []
  }
 ],
 "metadata": {
  "kernelspec": {
   "display_name": "Python 3",
   "language": "python",
   "name": "python3"
  },
  "language_info": {
   "codemirror_mode": {
    "name": "ipython",
    "version": 3
   },
   "file_extension": ".py",
   "mimetype": "text/x-python",
   "name": "python",
   "nbconvert_exporter": "python",
   "pygments_lexer": "ipython3",
   "version": "3.8.8"
  }
 },
 "nbformat": 4,
 "nbformat_minor": 5
}
