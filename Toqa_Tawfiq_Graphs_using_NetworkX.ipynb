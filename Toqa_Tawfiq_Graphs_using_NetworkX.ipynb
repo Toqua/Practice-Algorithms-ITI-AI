{
 "cells": [
  {
   "cell_type": "code",
   "execution_count": 1,
   "id": "b5b63ec3",
   "metadata": {},
   "outputs": [],
   "source": [
    "import networkx as nx"
   ]
  },
  {
   "cell_type": "code",
   "execution_count": 5,
   "id": "28a1fe21",
   "metadata": {},
   "outputs": [
    {
     "data": {
      "text/plain": [
       "{('a', 'c'): Text(1.0, 1.0, '4.0'),\n",
       " ('a', 'd'): Text(1.5, 1.5, '4.0'),\n",
       " ('b', 'd'): Text(2.5, 1.5, '3.0'),\n",
       " ('b', 'e'): Text(3.5, 1.5, '3.0'),\n",
       " ('c', 'd'): Text(1.5, 0.5, '2.0'),\n",
       " ('d', 'e'): Text(3.0, 1.0, '4.0'),\n",
       " ('d', 'f'): Text(2.5, 0.5, '3.0'),\n",
       " ('e', 'f'): Text(3.5, 0.5, '3.0')}"
      ]
     },
     "execution_count": 5,
     "metadata": {},
     "output_type": "execute_result"
    },
    {
     "data": {
      "image/png": "[encoded data removed]",
      "text/plain": [
       "<Figure size 432x288 with 1 Axes>"
      ]
     },
     "metadata": {},
     "output_type": "display_data"
    }
   ],
   "source": [
    "G=nx.Graph()\n",
    "i='a'\n",
    "j=1\n",
    "G.add_node('a',pos=(1,2))\n",
    "G.add_node('b',pos=(3,2))\n",
    "G.add_node('c',pos=(1,0))\n",
    "G.add_node('d',pos=(2,1))\n",
    "G.add_node('e',pos=(4,1))\n",
    "G.add_node('f',pos=(3,0))\n",
    "\n",
    "G.add_edge('a','c',weight=4.0)\n",
    "G.add_edge('a','d',weight=4.0)\n",
    "G.add_edge('c','d',weight=2.0)\n",
    "G.add_edge('d','e',weight=4.0)\n",
    "G.add_edge('d','b',weight=3.0)\n",
    "G.add_edge('b','e',weight=3.0)\n",
    "G.add_edge('d','f',weight=3.0)\n",
    "G.add_edge('e','f',weight=3.0)\n",
    "\n",
    "pos=nx.get_node_attributes(G,'pos')\n",
    "nx.draw(G,pos,with_labels=True)\n",
    "\n",
    "labels = nx.get_edge_attributes(G,'weight')\n",
    "#nx.draw(G,with_labels=True)\n",
    "nx.draw_networkx_edge_labels(G,pos,edge_labels=labels)"
   ]
  },
  {
   "cell_type": "code",
   "execution_count": 6,
   "id": "3c79f066",
   "metadata": {},
   "outputs": [
    {
     "name": "stdout",
     "output_type": "stream",
     "text": [
      "['a', 'c', 'd', 'e', 'b', 'f']\n"
     ]
    }
   ],
   "source": [
    "DFS = list(nx.dfs_tree(G,'a'))\n",
    "print(DFS)"
   ]
  },
  {
   "cell_type": "code",
   "execution_count": 7,
   "id": "ef921f0c",
   "metadata": {},
   "outputs": [
    {
     "name": "stdout",
     "output_type": "stream",
     "text": [
      "['a', 'c', 'd', 'e', 'b', 'f']\n"
     ]
    }
   ],
   "source": [
    "BFS = list(nx.bfs_tree(G,'a'))\n",
    "print(BFS)"
   ]
  },
  {
   "cell_type": "code",
   "execution_count": 9,
   "id": "f28bc697",
   "metadata": {},
   "outputs": [
    {
     "name": "stdout",
     "output_type": "stream",
     "text": [
      "({'a': 0, 'c': 4.0, 'd': 4.0, 'b': 7.0, 'f': 7.0, 'e': 8.0}, {'a': ['a'], 'c': ['a', 'c'], 'd': ['a', 'd'], 'e': ['a', 'd', 'e'], 'b': ['a', 'd', 'b'], 'f': ['a', 'd', 'f']})\n"
     ]
    }
   ],
   "source": [
    "Dijkstra = nx.single_source_dijkstra(G,'a')\n",
    "print(Dijkstra)"
   ]
  },
  {
   "cell_type": "code",
   "execution_count": 14,
   "id": "c08f8c3d",
   "metadata": {},
   "outputs": [
    {
     "name": "stdout",
     "output_type": "stream",
     "text": [
      "[('a', 'c', {'weight': 4.0}), ('b', 'd', {'weight': 3.0}), ('b', 'e', {'weight': 3.0}), ('c', 'd', {'weight': 2.0}), ('d', 'f', {'weight': 3.0})]\n"
     ]
    }
   ],
   "source": [
    "kurskal = nx.minimum_spanning_edges(G)\n",
    "edgelist = list(kurskal)\n",
    "print(sorted(edgelist))"
   ]
  },
  {
   "cell_type": "code",
   "execution_count": 16,
   "id": "006f11b9",
   "metadata": {},
   "outputs": [
    {
     "name": "stdout",
     "output_type": "stream",
     "text": [
      "[('a', 'c', {'weight': 4.0}), ('b', 'e', {'weight': 3.0}), ('c', 'd', {'weight': 2.0}), ('d', 'b', {'weight': 3.0}), ('d', 'f', {'weight': 3.0})]\n"
     ]
    }
   ],
   "source": [
    "prim = nx.minimum_spanning_edges(G,algorithm=\"prim\")\n",
    "edgelist1 = list(prim)\n",
    "print(sorted(edgelist1))"
   ]
  },
  {
   "cell_type": "code",
   "execution_count": null,
   "id": "9234e989",
   "metadata": {},
   "outputs": [],
   "source": []
  }
 ],
 "metadata": {
  "kernelspec": {
   "display_name": "Python 3",
   "language": "python",
   "name": "python3"
  },
  "language_info": {
   "codemirror_mode": {
    "name": "ipython",
    "version": 3
   },
   "file_extension": ".py",
   "mimetype": "text/x-python",
   "name": "python",
   "nbconvert_exporter": "python",
   "pygments_lexer": "ipython3",
   "version": "3.8.8"
  }
 },
 "nbformat": 4,
 "nbformat_minor": 5
}
